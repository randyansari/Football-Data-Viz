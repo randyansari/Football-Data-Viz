{
 "cells": [
  {
   "cell_type": "code",
   "execution_count": 1,
   "metadata": {},
   "outputs": [],
   "source": [
    "import requests\n",
    "from bs4 import BeautifulSoup\n",
    "import json\n",
    "import pandas as pd"
   ]
  },
  {
   "cell_type": "code",
   "execution_count": 2,
   "metadata": {},
   "outputs": [],
   "source": [
    "# scrape satu pertandingan, nanti akan menginputkan kode pertandingan\n",
    "base_url = 'https://understat.com/match/'\n",
    "match = str(input('Please enter the match id: '))\n",
    "url = base_url+match"
   ]
  },
  {
   "cell_type": "code",
   "execution_count": 3,
   "metadata": {},
   "outputs": [],
   "source": [
    "# requests alamat website\n",
    "res = requests.get(url)\n",
    "soup = BeautifulSoup(res.content, 'lxml')\n",
    "scripts = soup.find_all('script')"
   ]
  },
  {
   "cell_type": "code",
   "execution_count": 4,
   "metadata": {},
   "outputs": [],
   "source": [
    "# hanya mendapatkan shotsData dari skrip\n",
    "strings = scripts[1].string"
   ]
  },
  {
   "cell_type": "code",
   "execution_count": 5,
   "metadata": {},
   "outputs": [],
   "source": [
    "# menghapus simbol yang tidak perlu dan hanya mendapatkan data JSON\n",
    "ind_start = strings.index(\"('\")+2\n",
    "ind_end = strings.index(\"')\")\n",
    "json_data = strings[ind_start:ind_end]\n",
    "json_data = json_data.encode('utf8').decode('unicode_escape')"
   ]
  },
  {
   "cell_type": "code",
   "execution_count": 6,
   "metadata": {},
   "outputs": [
    {
     "name": "stdout",
     "output_type": "stream",
     "text": [
      "{'h': [{'id': '528722', 'minute': '5', 'result': 'Goal', 'X': '0.9130000305175782', 'Y': '0.514000015258789', 'xG': '0.11013059318065643', 'player': 'Casemiro', 'h_a': 'h', 'player_id': '2248', 'situation': 'SetPiece', 'season': '2022', 'shotType': 'Head', 'match_id': '18520', 'h_team': 'Manchester United', 'a_team': 'Chelsea', 'h_goals': '4', 'a_goals': '1', 'date': '2023-05-25 19:00:00', 'player_assisted': 'Christian Eriksen', 'lastAction': 'Cross'}, {'id': '528723', 'minute': '12', 'result': 'MissedShots', 'X': '0.765', 'Y': '0.3129999923706055', 'xG': '0.02509337291121483', 'player': 'Antony', 'h_a': 'h', 'player_id': '11094', 'situation': 'OpenPlay', 'season': '2022', 'shotType': 'LeftFoot', 'match_id': '18520', 'h_team': 'Manchester United', 'a_team': 'Chelsea', 'h_goals': '4', 'a_goals': '1', 'date': '2023-05-25 19:00:00', 'player_assisted': 'Anthony Martial', 'lastAction': 'Pass'}, {'id': '528725', 'minute': '34', 'result': 'BlockedShot', 'X': '0.8719999694824219', 'Y': '0.5379999923706055', 'xG': '0.14273706078529358', 'player': 'Jadon Sancho', 'h_a': 'h', 'player_id': '6345', 'situation': 'OpenPlay', 'season': '2022', 'shotType': 'RightFoot', 'match_id': '18520', 'h_team': 'Manchester United', 'a_team': 'Chelsea', 'h_goals': '4', 'a_goals': '1', 'date': '2023-05-25 19:00:00', 'player_assisted': 'Marcus Rashford', 'lastAction': 'TakeOn'}, {'id': '528731', 'minute': '46', 'result': 'ShotOnPost', 'X': '0.8619999694824219', 'Y': '0.4420000076293945', 'xG': '0.12300071120262146', 'player': 'Bruno Fernandes', 'h_a': 'h', 'player_id': '1228', 'situation': 'OpenPlay', 'season': '2022', 'shotType': 'RightFoot', 'match_id': '18520', 'h_team': 'Manchester United', 'a_team': 'Chelsea', 'h_goals': '4', 'a_goals': '1', 'date': '2023-05-25 19:00:00', 'player_assisted': 'Jadon Sancho', 'lastAction': 'Pass'}, {'id': '528730', 'minute': '50', 'result': 'Goal', 'X': '0.9569999694824218', 'Y': '0.5590000152587891', 'xG': '0.6171411275863647', 'player': 'Anthony Martial', 'h_a': 'h', 'player_id': '553', 'situation': 'OpenPlay', 'season': '2022', 'shotType': 'LeftFoot', 'match_id': '18520', 'h_team': 'Manchester United', 'a_team': 'Chelsea', 'h_goals': '4', 'a_goals': '1', 'date': '2023-05-25 19:00:00', 'player_assisted': 'Jadon Sancho', 'lastAction': 'Pass'}, {'id': '528733', 'minute': '51', 'result': 'BlockedShot', 'X': '0.9159999847412109', 'Y': '0.590999984741211', 'xG': '0.1240784302353859', 'player': 'Aaron Wan-Bissaka', 'h_a': 'h', 'player_id': '5584', 'situation': 'OpenPlay', 'season': '2022', 'shotType': 'RightFoot', 'match_id': '18520', 'h_team': 'Manchester United', 'a_team': 'Chelsea', 'h_goals': '4', 'a_goals': '1', 'date': '2023-05-25 19:00:00', 'player_assisted': 'Tyrell Malacia', 'lastAction': 'Pass'}, {'id': '528734', 'minute': '51', 'result': 'SavedShot', 'X': '0.97', 'Y': '0.485', 'xG': '0.8001889586448669', 'player': 'Christian Eriksen', 'h_a': 'h', 'player_id': '646', 'situation': 'OpenPlay', 'season': '2022', 'shotType': 'LeftFoot', 'match_id': '18520', 'h_team': 'Manchester United', 'a_team': 'Chelsea', 'h_goals': '4', 'a_goals': '1', 'date': '2023-05-25 19:00:00', 'player_assisted': None, 'lastAction': 'None'}, {'id': '528735', 'minute': '51', 'result': 'MissedShots', 'X': '0.7719999694824219', 'Y': '0.4590000152587891', 'xG': '0.019388636574149132', 'player': 'Casemiro', 'h_a': 'h', 'player_id': '2248', 'situation': 'OpenPlay', 'season': '2022', 'shotType': 'RightFoot', 'match_id': '18520', 'h_team': 'Manchester United', 'a_team': 'Chelsea', 'h_goals': '4', 'a_goals': '1', 'date': '2023-05-25 19:00:00', 'player_assisted': 'Jadon Sancho', 'lastAction': 'Rebound'}, {'id': '528739', 'minute': '72', 'result': 'Goal', 'X': '0.885', 'Y': '0.5', 'xG': '0.7611688375473022', 'player': 'Bruno Fernandes', 'h_a': 'h', 'player_id': '1228', 'situation': 'Penalty', 'season': '2022', 'shotType': 'RightFoot', 'match_id': '18520', 'h_team': 'Manchester United', 'a_team': 'Chelsea', 'h_goals': '4', 'a_goals': '1', 'date': '2023-05-25 19:00:00', 'player_assisted': None, 'lastAction': 'Standard'}, {'id': '528740', 'minute': '75', 'result': 'BlockedShot', 'X': '0.795', 'Y': '0.6', 'xG': '0.03808268532156944', 'player': 'Fred', 'h_a': 'h', 'player_id': '6817', 'situation': 'OpenPlay', 'season': '2022', 'shotType': 'LeftFoot', 'match_id': '18520', 'h_team': 'Manchester United', 'a_team': 'Chelsea', 'h_goals': '4', 'a_goals': '1', 'date': '2023-05-25 19:00:00', 'player_assisted': 'Alejandro Garnacho', 'lastAction': 'Pass'}, {'id': '528741', 'minute': '77', 'result': 'MissedShots', 'X': '0.8130000305175781', 'Y': '0.7069999694824218', 'xG': '0.03335993364453316', 'player': 'Marcus Rashford', 'h_a': 'h', 'player_id': '556', 'situation': 'OpenPlay', 'season': '2022', 'shotType': 'RightFoot', 'match_id': '18520', 'h_team': 'Manchester United', 'a_team': 'Chelsea', 'h_goals': '4', 'a_goals': '1', 'date': '2023-05-25 19:00:00', 'player_assisted': 'Fred', 'lastAction': 'BallRecovery'}, {'id': '528742', 'minute': '77', 'result': 'SavedShot', 'X': '0.9109999847412109', 'Y': '0.47400001525878904', 'xG': '0.5410463809967041', 'player': 'Marcus Rashford', 'h_a': 'h', 'player_id': '556', 'situation': 'OpenPlay', 'season': '2022', 'shotType': 'RightFoot', 'match_id': '18520', 'h_team': 'Manchester United', 'a_team': 'Chelsea', 'h_goals': '4', 'a_goals': '1', 'date': '2023-05-25 19:00:00', 'player_assisted': 'Bruno Fernandes', 'lastAction': 'TakeOn'}, {'id': '528743', 'minute': '77', 'result': 'Goal', 'X': '0.9740000152587891', 'Y': '0.5159999847412109', 'xG': '0.9310123920440674', 'player': 'Marcus Rashford', 'h_a': 'h', 'player_id': '556', 'situation': 'OpenPlay', 'season': '2022', 'shotType': 'LeftFoot', 'match_id': '18520', 'h_team': 'Manchester United', 'a_team': 'Chelsea', 'h_goals': '4', 'a_goals': '1', 'date': '2023-05-25 19:00:00', 'player_assisted': None, 'lastAction': 'Rebound'}, {'id': '528744', 'minute': '83', 'result': 'BlockedShot', 'X': '0.8540000152587891', 'Y': '0.5429999923706055', 'xG': '0.12090142071247101', 'player': 'Alejandro Garnacho', 'h_a': 'h', 'player_id': '10552', 'situation': 'OpenPlay', 'season': '2022', 'shotType': 'RightFoot', 'match_id': '18520', 'h_team': 'Manchester United', 'a_team': 'Chelsea', 'h_goals': '4', 'a_goals': '1', 'date': '2023-05-25 19:00:00', 'player_assisted': 'Marcus Rashford', 'lastAction': 'Pass'}, {'id': '528747', 'minute': '89', 'result': 'SavedShot', 'X': '0.9259999847412109', 'Y': '0.6040000152587891', 'xG': '0.37207362055778503', 'player': 'Alejandro Garnacho', 'h_a': 'h', 'player_id': '10552', 'situation': 'OpenPlay', 'season': '2022', 'shotType': 'LeftFoot', 'match_id': '18520', 'h_team': 'Manchester United', 'a_team': 'Chelsea', 'h_goals': '4', 'a_goals': '1', 'date': '2023-05-25 19:00:00', 'player_assisted': 'Jadon Sancho', 'lastAction': 'Pass'}, {'id': '528748', 'minute': '91', 'result': 'SavedShot', 'X': '0.8630000305175781', 'Y': '0.3920000076293945', 'xG': '0.09924069792032242', 'player': 'Marcus Rashford', 'h_a': 'h', 'player_id': '556', 'situation': 'OpenPlay', 'season': '2022', 'shotType': 'LeftFoot', 'match_id': '18520', 'h_team': 'Manchester United', 'a_team': 'Chelsea', 'h_goals': '4', 'a_goals': '1', 'date': '2023-05-25 19:00:00', 'player_assisted': 'Scott McTominay', 'lastAction': 'Pass'}, {'id': '528749', 'minute': '92', 'result': 'SavedShot', 'X': '0.9180000305175782', 'Y': '0.4570000076293945', 'xG': '0.5577870607376099', 'player': 'Scott McTominay', 'h_a': 'h', 'player_id': '5560', 'situation': 'OpenPlay', 'season': '2022', 'shotType': 'RightFoot', 'match_id': '18520', 'h_team': 'Manchester United', 'a_team': 'Chelsea', 'h_goals': '4', 'a_goals': '1', 'date': '2023-05-25 19:00:00', 'player_assisted': 'Jadon Sancho', 'lastAction': 'Pass'}, {'id': '528750', 'minute': '92', 'result': 'BlockedShot', 'X': '0.755', 'Y': '0.33', 'xG': '0.025117671117186546', 'player': 'Marcus Rashford', 'h_a': 'h', 'player_id': '556', 'situation': 'OpenPlay', 'season': '2022', 'shotType': 'RightFoot', 'match_id': '18520', 'h_team': 'Manchester United', 'a_team': 'Chelsea', 'h_goals': '4', 'a_goals': '1', 'date': '2023-05-25 19:00:00', 'player_assisted': 'Fred', 'lastAction': 'Pass'}], 'a': [{'id': '528720', 'minute': '2', 'result': 'MissedShots', 'X': '0.8369999694824218', 'Y': '0.28899999618530275', 'xG': '0.027283156290650368', 'player': 'Carney Chukwuemeka', 'h_a': 'a', 'player_id': '9356', 'situation': 'OpenPlay', 'season': '2022', 'shotType': 'RightFoot', 'match_id': '18520', 'h_team': 'Manchester United', 'a_team': 'Chelsea', 'h_goals': '4', 'a_goals': '1', 'date': '2023-05-25 19:00:00', 'player_assisted': 'Noni Madueke', 'lastAction': 'Pass'}, {'id': '528721', 'minute': '3', 'result': 'MissedShots', 'X': '0.9119999694824219', 'Y': '0.53', 'xG': '0.47867223620414734', 'player': 'Mykhailo Mudryk', 'h_a': 'a', 'player_id': '11305', 'situation': 'OpenPlay', 'season': '2022', 'shotType': 'RightFoot', 'match_id': '18520', 'h_team': 'Manchester United', 'a_team': 'Chelsea', 'h_goals': '4', 'a_goals': '1', 'date': '2023-05-25 19:00:00', 'player_assisted': 'Lewis Hall', 'lastAction': 'Pass'}, {'id': '528724', 'minute': '31', 'result': 'MissedShots', 'X': '0.9290000152587891', 'Y': '0.5359999847412109', 'xG': '0.3926776051521301', 'player': 'Kai Havertz', 'h_a': 'a', 'player_id': '5220', 'situation': 'OpenPlay', 'season': '2022', 'shotType': 'Head', 'match_id': '18520', 'h_team': 'Manchester United', 'a_team': 'Chelsea', 'h_goals': '4', 'a_goals': '1', 'date': '2023-05-25 19:00:00', 'player_assisted': 'Lewis Hall', 'lastAction': 'Cross'}, {'id': '528726', 'minute': '38', 'result': 'BlockedShot', 'X': '0.7830000305175782', 'Y': '0.32299999237060545', 'xG': '0.023500122129917145', 'player': 'Kai Havertz', 'h_a': 'a', 'player_id': '5220', 'situation': 'OpenPlay', 'season': '2022', 'shotType': 'LeftFoot', 'match_id': '18520', 'h_team': 'Manchester United', 'a_team': 'Chelsea', 'h_goals': '4', 'a_goals': '1', 'date': '2023-05-25 19:00:00', 'player_assisted': 'Wesley Fofana', 'lastAction': 'Pass'}, {'id': '528727', 'minute': '41', 'result': 'BlockedShot', 'X': '0.899000015258789', 'Y': '0.624000015258789', 'xG': '0.057630617171525955', 'player': 'Lewis Hall', 'h_a': 'a', 'player_id': '10216', 'situation': 'OpenPlay', 'season': '2022', 'shotType': 'LeftFoot', 'match_id': '18520', 'h_team': 'Manchester United', 'a_team': 'Chelsea', 'h_goals': '4', 'a_goals': '1', 'date': '2023-05-25 19:00:00', 'player_assisted': 'Mykhailo Mudryk', 'lastAction': 'Chipped'}, {'id': '528728', 'minute': '43', 'result': 'MissedShots', 'X': '0.7580000305175781', 'Y': '0.555', 'xG': '0.025021517649292946', 'player': 'Conor Gallagher', 'h_a': 'a', 'player_id': '9040', 'situation': 'OpenPlay', 'season': '2022', 'shotType': 'RightFoot', 'match_id': '18520', 'h_team': 'Manchester United', 'a_team': 'Chelsea', 'h_goals': '4', 'a_goals': '1', 'date': '2023-05-25 19:00:00', 'player_assisted': 'César Azpilicueta', 'lastAction': 'Pass'}, {'id': '528729', 'minute': '45', 'result': 'MissedShots', 'X': '0.9230000305175782', 'Y': '0.41200000762939454', 'xG': '0.4197308421134949', 'player': 'Conor Gallagher', 'h_a': 'a', 'player_id': '9040', 'situation': 'OpenPlay', 'season': '2022', 'shotType': 'RightFoot', 'match_id': '18520', 'h_team': 'Manchester United', 'a_team': 'Chelsea', 'h_goals': '4', 'a_goals': '1', 'date': '2023-05-25 19:00:00', 'player_assisted': 'Enzo Fernández', 'lastAction': 'Throughball'}, {'id': '528732', 'minute': '49', 'result': 'SavedShot', 'X': '0.7719999694824219', 'Y': '0.435', 'xG': '0.024533908814191818', 'player': 'Mykhailo Mudryk', 'h_a': 'a', 'player_id': '11305', 'situation': 'OpenPlay', 'season': '2022', 'shotType': 'RightFoot', 'match_id': '18520', 'h_team': 'Manchester United', 'a_team': 'Chelsea', 'h_goals': '4', 'a_goals': '1', 'date': '2023-05-25 19:00:00', 'player_assisted': 'Lewis Hall', 'lastAction': 'Pass'}, {'id': '528736', 'minute': '58', 'result': 'SavedShot', 'X': '0.8969999694824219', 'Y': '0.32', 'xG': '0.049473896622657776', 'player': 'Lewis Hall', 'h_a': 'a', 'player_id': '10216', 'situation': 'FromCorner', 'season': '2022', 'shotType': 'LeftFoot', 'match_id': '18520', 'h_team': 'Manchester United', 'a_team': 'Chelsea', 'h_goals': '4', 'a_goals': '1', 'date': '2023-05-25 19:00:00', 'player_assisted': 'Enzo Fernández', 'lastAction': 'TakeOn'}, {'id': '528737', 'minute': '58', 'result': 'SavedShot', 'X': '0.784000015258789', 'Y': '0.5129999923706055', 'xG': '0.03574841842055321', 'player': 'Mykhailo Mudryk', 'h_a': 'a', 'player_id': '11305', 'situation': 'FromCorner', 'season': '2022', 'shotType': 'RightFoot', 'match_id': '18520', 'h_team': 'Manchester United', 'a_team': 'Chelsea', 'h_goals': '4', 'a_goals': '1', 'date': '2023-05-25 19:00:00', 'player_assisted': None, 'lastAction': 'Rebound'}, {'id': '528738', 'minute': '61', 'result': 'SavedShot', 'X': '0.905', 'Y': '0.5379999923706055', 'xG': '0.054534927010536194', 'player': 'Kai Havertz', 'h_a': 'a', 'player_id': '5220', 'situation': 'OpenPlay', 'season': '2022', 'shotType': 'Head', 'match_id': '18520', 'h_team': 'Manchester United', 'a_team': 'Chelsea', 'h_goals': '4', 'a_goals': '1', 'date': '2023-05-25 19:00:00', 'player_assisted': 'César Azpilicueta', 'lastAction': 'Aerial'}, {'id': '528745', 'minute': '84', 'result': 'BlockedShot', 'X': '0.725', 'Y': '0.27899999618530275', 'xG': '0.007863528095185757', 'player': 'Hakim Ziyech', 'h_a': 'a', 'player_id': '8992', 'situation': 'OpenPlay', 'season': '2022', 'shotType': 'LeftFoot', 'match_id': '18520', 'h_team': 'Manchester United', 'a_team': 'Chelsea', 'h_goals': '4', 'a_goals': '1', 'date': '2023-05-25 19:00:00', 'player_assisted': 'David Datro Fofana', 'lastAction': 'Pass'}, {'id': '528746', 'minute': '88', 'result': 'Goal', 'X': '0.8159999847412109', 'Y': '0.46', 'xG': '0.08873346447944641', 'player': 'João Félix', 'h_a': 'a', 'player_id': '7892', 'situation': 'OpenPlay', 'season': '2022', 'shotType': 'RightFoot', 'match_id': '18520', 'h_team': 'Manchester United', 'a_team': 'Chelsea', 'h_goals': '4', 'a_goals': '1', 'date': '2023-05-25 19:00:00', 'player_assisted': 'Hakim Ziyech', 'lastAction': 'Chipped'}]}\n"
     ]
    }
   ],
   "source": [
    "# mengonversi string ke format json\n",
    "data = json.loads(json_data)\n",
    "print(data)"
   ]
  },
  {
   "cell_type": "code",
   "execution_count": 8,
   "metadata": {},
   "outputs": [],
   "source": [
    "x = []\n",
    "y = []\n",
    "xG = []\n",
    "result = []\n",
    "team = []\n",
    "data_away = data['a']\n",
    "data_home = data['h']\n",
    "minute = []\n",
    "shotType = []\n",
    "player = []\n",
    "match_id = []\n",
    "situation = []\n",
    "player_assisted = []\n",
    "lastAction = []\n",
    "\n",
    "for index in range(len(data_home)):\n",
    "    for key in data_home[index]:\n",
    "        if key == 'X':\n",
    "            x.append(data_home[index][key])\n",
    "        if key == 'Y':\n",
    "            y.append(data_home[index][key])\n",
    "        if key == 'h_team':\n",
    "            team.append(data_home[index][key])\n",
    "        if key == 'xG':\n",
    "            xG.append(data_home[index][key])\n",
    "        if key == 'result':\n",
    "            result.append(data_home[index][key])\n",
    "        if key == 'minute':\n",
    "            minute.append(data_home[index][key])\n",
    "        if key == 'shotType':\n",
    "            shotType.append(data_home[index][key])\n",
    "        if key == 'player':\n",
    "            player.append(data_home[index][key])\n",
    "        if key == 'match_id':\n",
    "            match_id.append(data_home[index][key])\n",
    "        if key == 'situation':\n",
    "            situation.append(data_home[index][key])\n",
    "        if key == 'player_assisted':\n",
    "            player_assisted.append(data_home[index][key])\n",
    "        if key == 'lastAction':\n",
    "            lastAction.append(data_home[index][key])\n",
    "\n",
    "for index in range(len(data_away)):\n",
    "    for key in data_away[index]:\n",
    "        if key == 'X':\n",
    "            x.append(data_away[index][key])\n",
    "        if key == 'Y':\n",
    "            y.append(data_away[index][key])\n",
    "        if key == 'a_team':\n",
    "            team.append(data_away[index][key])\n",
    "        if key == 'xG':\n",
    "            xG.append(data_away[index][key])\n",
    "        if key == 'result':\n",
    "            result.append(data_away[index][key])\n",
    "        if key == 'minute':\n",
    "            minute.append(data_away[index][key])\n",
    "        if key == 'shotType':\n",
    "            shotType.append(data_away[index][key])\n",
    "        if key == 'player':\n",
    "            player.append(data_away[index][key])\n",
    "        if key == 'match_id':\n",
    "            match_id.append(data_away[index][key])\n",
    "        if key == 'situation':\n",
    "            situation.append(data_away[index][key])\n",
    "        if key == 'player_assisted':\n",
    "            player_assisted.append(data_away[index][key])\n",
    "        if key == 'lastAction':\n",
    "            lastAction.append(data_away[index][key])\n",
    "\n",
    "col_names = ['x','y','xG','result','team','minute','shotType','player','match_id','situation','player_assisted','lastAction']\n",
    "df = pd.DataFrame([x,y,xG,result,team,minute,shotType,player,match_id,situation,player_assisted,lastAction],index=col_names)\n",
    "df = df.T"
   ]
  },
  {
   "cell_type": "code",
   "execution_count": 9,
   "metadata": {},
   "outputs": [],
   "source": [
    "# download df\n",
    "df.to_csv(r'data_understat.csv', index=False, header=True)"
   ]
  }
 ],
 "metadata": {
  "kernelspec": {
   "display_name": "base",
   "language": "python",
   "name": "python3"
  },
  "language_info": {
   "codemirror_mode": {
    "name": "ipython",
    "version": 3
   },
   "file_extension": ".py",
   "mimetype": "text/x-python",
   "name": "python",
   "nbconvert_exporter": "python",
   "pygments_lexer": "ipython3",
   "version": "3.9.7"
  },
  "orig_nbformat": 4
 },
 "nbformat": 4,
 "nbformat_minor": 2
}
