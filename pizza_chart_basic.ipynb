{
 "cells": [
  {
   "cell_type": "code",
   "execution_count": 1,
   "metadata": {},
   "outputs": [],
   "source": [
    "import pandas as pd\n",
    "import numpy as np\n",
    "\n",
    "from scipy import stats\n",
    "import math\n",
    "\n",
    "from mplsoccer import PyPizza, add_image, FontManager\n",
    "import matplotlib.pyplot as plt"
   ]
  },
  {
   "cell_type": "code",
   "execution_count": 53,
   "metadata": {},
   "outputs": [],
   "source": [
    "font_normal = FontManager('https://raw.githubusercontent.com/google/fonts/main/apache/roboto/'\n",
    "                          'Roboto%5Bwdth,wght%5D.ttf')\n",
    "font_italic = FontManager('https://raw.githubusercontent.com/google/fonts/main/apache/roboto/'\n",
    "                          'Roboto-Italic%5Bwdth,wght%5D.ttf')\n",
    "font_bold = FontManager('https://raw.githubusercontent.com/google/fonts/main/apache/robotoslab/'\n",
    "                        'RobotoSlab%5Bwght%5D.ttf')"
   ]
  },
  {
   "cell_type": "code",
   "execution_count": 32,
   "metadata": {},
   "outputs": [],
   "source": [
    "# import data\n",
    "df = pd.read_csv('Goalkeeping 2022-2023 Big 5 European Leagues.csv')"
   ]
  },
  {
   "cell_type": "code",
   "execution_count": 33,
   "metadata": {},
   "outputs": [
    {
     "data": {
      "text/html": [
       "<div>\n",
       "<style scoped>\n",
       "    .dataframe tbody tr th:only-of-type {\n",
       "        vertical-align: middle;\n",
       "    }\n",
       "\n",
       "    .dataframe tbody tr th {\n",
       "        vertical-align: top;\n",
       "    }\n",
       "\n",
       "    .dataframe thead th {\n",
       "        text-align: right;\n",
       "    }\n",
       "</style>\n",
       "<table border=\"1\" class=\"dataframe\">\n",
       "  <thead>\n",
       "    <tr style=\"text-align: right;\">\n",
       "      <th></th>\n",
       "      <th>Rk</th>\n",
       "      <th>Player</th>\n",
       "      <th>Nation</th>\n",
       "      <th>Pos</th>\n",
       "      <th>Squad</th>\n",
       "      <th>Comp</th>\n",
       "      <th>Age</th>\n",
       "      <th>Born</th>\n",
       "      <th>90s</th>\n",
       "      <th>Goals Against</th>\n",
       "      <th>...</th>\n",
       "      <th>Wins</th>\n",
       "      <th>Draws</th>\n",
       "      <th>Losts</th>\n",
       "      <th>Clean Sheets</th>\n",
       "      <th>Clean Sheets%</th>\n",
       "      <th>Penalty Kicks Attempted</th>\n",
       "      <th>Penalty Kicks Allowed12</th>\n",
       "      <th>Penalty Kicks Saved</th>\n",
       "      <th>Penalty Kicks Missed</th>\n",
       "      <th>Penalty Kicks Save%</th>\n",
       "    </tr>\n",
       "  </thead>\n",
       "  <tbody>\n",
       "    <tr>\n",
       "      <th>0</th>\n",
       "      <td>1</td>\n",
       "      <td>Álvaro Aceves</td>\n",
       "      <td>es ESP</td>\n",
       "      <td>GK</td>\n",
       "      <td>Valladolid</td>\n",
       "      <td>es La Liga</td>\n",
       "      <td>19</td>\n",
       "      <td>2003</td>\n",
       "      <td>0.1</td>\n",
       "      <td>0.0</td>\n",
       "      <td>...</td>\n",
       "      <td>0</td>\n",
       "      <td>0.0</td>\n",
       "      <td>0.0</td>\n",
       "      <td>0.0</td>\n",
       "      <td>NaN</td>\n",
       "      <td>0.0</td>\n",
       "      <td>0.0</td>\n",
       "      <td>0.0</td>\n",
       "      <td>0.0</td>\n",
       "      <td>NaN</td>\n",
       "    </tr>\n",
       "    <tr>\n",
       "      <th>1</th>\n",
       "      <td>2</td>\n",
       "      <td>Julen Agirrezabala</td>\n",
       "      <td>es ESP</td>\n",
       "      <td>GK</td>\n",
       "      <td>Athletic Club</td>\n",
       "      <td>es La Liga</td>\n",
       "      <td>21</td>\n",
       "      <td>2000</td>\n",
       "      <td>7.5</td>\n",
       "      <td>6.0</td>\n",
       "      <td>...</td>\n",
       "      <td>1</td>\n",
       "      <td>3.0</td>\n",
       "      <td>3.0</td>\n",
       "      <td>2.0</td>\n",
       "      <td>28.6</td>\n",
       "      <td>0.0</td>\n",
       "      <td>0.0</td>\n",
       "      <td>0.0</td>\n",
       "      <td>0.0</td>\n",
       "      <td>NaN</td>\n",
       "    </tr>\n",
       "    <tr>\n",
       "      <th>2</th>\n",
       "      <td>3</td>\n",
       "      <td>Doğan Alemdar</td>\n",
       "      <td>tr TUR</td>\n",
       "      <td>GK</td>\n",
       "      <td>Rennes</td>\n",
       "      <td>fr Ligue 1</td>\n",
       "      <td>19</td>\n",
       "      <td>2002</td>\n",
       "      <td>4.5</td>\n",
       "      <td>8.0</td>\n",
       "      <td>...</td>\n",
       "      <td>2</td>\n",
       "      <td>0.0</td>\n",
       "      <td>2.0</td>\n",
       "      <td>1.0</td>\n",
       "      <td>25.0</td>\n",
       "      <td>2.0</td>\n",
       "      <td>1.0</td>\n",
       "      <td>1.0</td>\n",
       "      <td>0.0</td>\n",
       "      <td>50.0</td>\n",
       "    </tr>\n",
       "    <tr>\n",
       "      <th>3</th>\n",
       "      <td>4</td>\n",
       "      <td>Alisson</td>\n",
       "      <td>br BRA</td>\n",
       "      <td>GK</td>\n",
       "      <td>Liverpool</td>\n",
       "      <td>eng Premier League</td>\n",
       "      <td>29</td>\n",
       "      <td>1992</td>\n",
       "      <td>37.0</td>\n",
       "      <td>43.0</td>\n",
       "      <td>...</td>\n",
       "      <td>19</td>\n",
       "      <td>9.0</td>\n",
       "      <td>9.0</td>\n",
       "      <td>14.0</td>\n",
       "      <td>37.8</td>\n",
       "      <td>4.0</td>\n",
       "      <td>2.0</td>\n",
       "      <td>1.0</td>\n",
       "      <td>1.0</td>\n",
       "      <td>33.3</td>\n",
       "    </tr>\n",
       "    <tr>\n",
       "      <th>4</th>\n",
       "      <td>5</td>\n",
       "      <td>Alphonse Areola</td>\n",
       "      <td>fr FRA</td>\n",
       "      <td>GK</td>\n",
       "      <td>West Ham</td>\n",
       "      <td>eng Premier League</td>\n",
       "      <td>29</td>\n",
       "      <td>1993</td>\n",
       "      <td>3.4</td>\n",
       "      <td>7.0</td>\n",
       "      <td>...</td>\n",
       "      <td>0</td>\n",
       "      <td>1.0</td>\n",
       "      <td>1.0</td>\n",
       "      <td>1.0</td>\n",
       "      <td>50.0</td>\n",
       "      <td>2.0</td>\n",
       "      <td>2.0</td>\n",
       "      <td>0.0</td>\n",
       "      <td>0.0</td>\n",
       "      <td>0.0</td>\n",
       "    </tr>\n",
       "  </tbody>\n",
       "</table>\n",
       "<p>5 rows × 48 columns</p>\n",
       "</div>"
      ],
      "text/plain": [
       "   Rk              Player  Nation Pos          Squad                Comp  Age  \\\n",
       "0   1       Álvaro Aceves  es ESP  GK     Valladolid          es La Liga   19   \n",
       "1   2  Julen Agirrezabala  es ESP  GK  Athletic Club          es La Liga   21   \n",
       "2   3       Doğan Alemdar  tr TUR  GK         Rennes          fr Ligue 1   19   \n",
       "3   4             Alisson  br BRA  GK      Liverpool  eng Premier League   29   \n",
       "4   5     Alphonse Areola  fr FRA  GK       West Ham  eng Premier League   29   \n",
       "\n",
       "   Born   90s  Goals Against  ...  Wins  Draws  Losts  Clean Sheets  \\\n",
       "0  2003   0.1            0.0  ...     0    0.0    0.0           0.0   \n",
       "1  2000   7.5            6.0  ...     1    3.0    3.0           2.0   \n",
       "2  2002   4.5            8.0  ...     2    0.0    2.0           1.0   \n",
       "3  1992  37.0           43.0  ...    19    9.0    9.0          14.0   \n",
       "4  1993   3.4            7.0  ...     0    1.0    1.0           1.0   \n",
       "\n",
       "   Clean Sheets%  Penalty Kicks Attempted  Penalty Kicks Allowed12  \\\n",
       "0            NaN                      0.0                      0.0   \n",
       "1           28.6                      0.0                      0.0   \n",
       "2           25.0                      2.0                      1.0   \n",
       "3           37.8                      4.0                      2.0   \n",
       "4           50.0                      2.0                      2.0   \n",
       "\n",
       "   Penalty Kicks Saved  Penalty Kicks Missed  Penalty Kicks Save%  \n",
       "0                  0.0                   0.0                  NaN  \n",
       "1                  0.0                   0.0                  NaN  \n",
       "2                  1.0                   0.0                 50.0  \n",
       "3                  1.0                   1.0                 33.3  \n",
       "4                  0.0                   0.0                  0.0  \n",
       "\n",
       "[5 rows x 48 columns]"
      ]
     },
     "execution_count": 33,
     "metadata": {},
     "output_type": "execute_result"
    }
   ],
   "source": [
    "df.head()"
   ]
  },
  {
   "cell_type": "code",
   "execution_count": 34,
   "metadata": {},
   "outputs": [
    {
     "data": {
      "text/html": [
       "<div>\n",
       "<style scoped>\n",
       "    .dataframe tbody tr th:only-of-type {\n",
       "        vertical-align: middle;\n",
       "    }\n",
       "\n",
       "    .dataframe tbody tr th {\n",
       "        vertical-align: top;\n",
       "    }\n",
       "\n",
       "    .dataframe thead th {\n",
       "        text-align: right;\n",
       "    }\n",
       "</style>\n",
       "<table border=\"1\" class=\"dataframe\">\n",
       "  <thead>\n",
       "    <tr style=\"text-align: right;\">\n",
       "      <th></th>\n",
       "      <th>Rk</th>\n",
       "      <th>Player</th>\n",
       "      <th>Nation</th>\n",
       "      <th>Pos</th>\n",
       "      <th>Squad</th>\n",
       "      <th>Comp</th>\n",
       "      <th>Age</th>\n",
       "      <th>Born</th>\n",
       "      <th>90s</th>\n",
       "      <th>Goals Against</th>\n",
       "      <th>...</th>\n",
       "      <th>Wins</th>\n",
       "      <th>Draws</th>\n",
       "      <th>Losts</th>\n",
       "      <th>Clean Sheets</th>\n",
       "      <th>Clean Sheets%</th>\n",
       "      <th>Penalty Kicks Attempted</th>\n",
       "      <th>Penalty Kicks Allowed12</th>\n",
       "      <th>Penalty Kicks Saved</th>\n",
       "      <th>Penalty Kicks Missed</th>\n",
       "      <th>Penalty Kicks Save%</th>\n",
       "    </tr>\n",
       "  </thead>\n",
       "  <tbody>\n",
       "    <tr>\n",
       "      <th>3</th>\n",
       "      <td>4</td>\n",
       "      <td>Alisson</td>\n",
       "      <td>br BRA</td>\n",
       "      <td>GK</td>\n",
       "      <td>Liverpool</td>\n",
       "      <td>eng Premier League</td>\n",
       "      <td>29</td>\n",
       "      <td>1992</td>\n",
       "      <td>37.0</td>\n",
       "      <td>43.0</td>\n",
       "      <td>...</td>\n",
       "      <td>19</td>\n",
       "      <td>9.0</td>\n",
       "      <td>9.0</td>\n",
       "      <td>14.0</td>\n",
       "      <td>37.8</td>\n",
       "      <td>4.0</td>\n",
       "      <td>2.0</td>\n",
       "      <td>1.0</td>\n",
       "      <td>1.0</td>\n",
       "      <td>33.3</td>\n",
       "    </tr>\n",
       "    <tr>\n",
       "      <th>5</th>\n",
       "      <td>6</td>\n",
       "      <td>Kepa Arrizabalaga</td>\n",
       "      <td>es ESP</td>\n",
       "      <td>GK</td>\n",
       "      <td>Chelsea</td>\n",
       "      <td>eng Premier League</td>\n",
       "      <td>27</td>\n",
       "      <td>1994</td>\n",
       "      <td>28.5</td>\n",
       "      <td>33.0</td>\n",
       "      <td>...</td>\n",
       "      <td>8</td>\n",
       "      <td>9.0</td>\n",
       "      <td>12.0</td>\n",
       "      <td>9.0</td>\n",
       "      <td>31.0</td>\n",
       "      <td>1.0</td>\n",
       "      <td>1.0</td>\n",
       "      <td>0.0</td>\n",
       "      <td>0.0</td>\n",
       "      <td>0.0</td>\n",
       "    </tr>\n",
       "    <tr>\n",
       "      <th>7</th>\n",
       "      <td>8</td>\n",
       "      <td>Emil Audero</td>\n",
       "      <td>it ITA</td>\n",
       "      <td>GK</td>\n",
       "      <td>Sampdoria</td>\n",
       "      <td>it Serie A</td>\n",
       "      <td>25</td>\n",
       "      <td>1997</td>\n",
       "      <td>25.0</td>\n",
       "      <td>39.0</td>\n",
       "      <td>...</td>\n",
       "      <td>2</td>\n",
       "      <td>6.0</td>\n",
       "      <td>17.0</td>\n",
       "      <td>4.0</td>\n",
       "      <td>16.0</td>\n",
       "      <td>7.0</td>\n",
       "      <td>5.0</td>\n",
       "      <td>2.0</td>\n",
       "      <td>0.0</td>\n",
       "      <td>28.6</td>\n",
       "    </tr>\n",
       "    <tr>\n",
       "      <th>8</th>\n",
       "      <td>9</td>\n",
       "      <td>Édgar Badía</td>\n",
       "      <td>es ESP</td>\n",
       "      <td>GK</td>\n",
       "      <td>Elche</td>\n",
       "      <td>es La Liga</td>\n",
       "      <td>30</td>\n",
       "      <td>1992</td>\n",
       "      <td>36.0</td>\n",
       "      <td>63.0</td>\n",
       "      <td>...</td>\n",
       "      <td>5</td>\n",
       "      <td>10.0</td>\n",
       "      <td>21.0</td>\n",
       "      <td>4.0</td>\n",
       "      <td>11.1</td>\n",
       "      <td>10.0</td>\n",
       "      <td>7.0</td>\n",
       "      <td>3.0</td>\n",
       "      <td>0.0</td>\n",
       "      <td>30.0</td>\n",
       "    </tr>\n",
       "    <tr>\n",
       "      <th>10</th>\n",
       "      <td>11</td>\n",
       "      <td>Oliver Baumann</td>\n",
       "      <td>de GER</td>\n",
       "      <td>GK</td>\n",
       "      <td>Hoffenheim</td>\n",
       "      <td>de Bundesliga</td>\n",
       "      <td>32</td>\n",
       "      <td>1990</td>\n",
       "      <td>34.0</td>\n",
       "      <td>57.0</td>\n",
       "      <td>...</td>\n",
       "      <td>10</td>\n",
       "      <td>6.0</td>\n",
       "      <td>18.0</td>\n",
       "      <td>5.0</td>\n",
       "      <td>14.7</td>\n",
       "      <td>3.0</td>\n",
       "      <td>2.0</td>\n",
       "      <td>0.0</td>\n",
       "      <td>1.0</td>\n",
       "      <td>0.0</td>\n",
       "    </tr>\n",
       "  </tbody>\n",
       "</table>\n",
       "<p>5 rows × 48 columns</p>\n",
       "</div>"
      ],
      "text/plain": [
       "    Rk             Player  Nation Pos       Squad                Comp  Age  \\\n",
       "3    4            Alisson  br BRA  GK   Liverpool  eng Premier League   29   \n",
       "5    6  Kepa Arrizabalaga  es ESP  GK     Chelsea  eng Premier League   27   \n",
       "7    8        Emil Audero  it ITA  GK   Sampdoria          it Serie A   25   \n",
       "8    9        Édgar Badía  es ESP  GK       Elche          es La Liga   30   \n",
       "10  11     Oliver Baumann  de GER  GK  Hoffenheim       de Bundesliga   32   \n",
       "\n",
       "    Born   90s  Goals Against  ...  Wins  Draws  Losts  Clean Sheets  \\\n",
       "3   1992  37.0           43.0  ...    19    9.0    9.0          14.0   \n",
       "5   1994  28.5           33.0  ...     8    9.0   12.0           9.0   \n",
       "7   1997  25.0           39.0  ...     2    6.0   17.0           4.0   \n",
       "8   1992  36.0           63.0  ...     5   10.0   21.0           4.0   \n",
       "10  1990  34.0           57.0  ...    10    6.0   18.0           5.0   \n",
       "\n",
       "    Clean Sheets%  Penalty Kicks Attempted  Penalty Kicks Allowed12  \\\n",
       "3            37.8                      4.0                      2.0   \n",
       "5            31.0                      1.0                      1.0   \n",
       "7            16.0                      7.0                      5.0   \n",
       "8            11.1                     10.0                      7.0   \n",
       "10           14.7                      3.0                      2.0   \n",
       "\n",
       "    Penalty Kicks Saved  Penalty Kicks Missed  Penalty Kicks Save%  \n",
       "3                   1.0                   1.0                 33.3  \n",
       "5                   0.0                   0.0                  0.0  \n",
       "7                   2.0                   0.0                 28.6  \n",
       "8                   3.0                   0.0                 30.0  \n",
       "10                  0.0                   1.0                  0.0  \n",
       "\n",
       "[5 rows x 48 columns]"
      ]
     },
     "execution_count": 34,
     "metadata": {},
     "output_type": "execute_result"
    }
   ],
   "source": [
    "# melakukan filter terkait posisi dan banyaknya waktu bermain\n",
    "df = df.loc[(df['Pos']=='GK') & (df['90s']>10)]\n",
    "\n",
    "#cek dataframe\n",
    "df.head()"
   ]
  },
  {
   "cell_type": "code",
   "execution_count": 35,
   "metadata": {},
   "outputs": [
    {
     "data": {
      "text/plain": [
       "Index(['Rk', 'Player', 'Nation', 'Pos', 'Squad', 'Comp', 'Age', 'Born', '90s',\n",
       "       'Goals Against', 'Penalty Kicks Allowed', 'Free Kick Goals Against',\n",
       "       'Corner Kick Goals Against', 'Own Goals Scored Against Goalkeeper',\n",
       "       'PSxG ', 'Expected PSxG/SoT', 'Expected PSxG+/-', 'PSxG-GA/90',\n",
       "       'Passes Completed (Launched)', 'Passes Attempted (Launched)',\n",
       "       'Pass Completion Percentage (Launched)', 'Passes Attempted',\n",
       "       'Throws Attempted', 'Percentage of Passes that were Launched',\n",
       "       'Average Pass Length', 'Goal Kicks', 'Goal Kicks Launch%',\n",
       "       'Goal Kicks AvgLen', 'Crosses Opp', 'Crosses Stp', 'Crosses Stp%',\n",
       "       'Sweeper #OPA', 'Sweeper #OPA/90', 'Sweeper AvgDist',\n",
       "       'Goals Against/90', 'Shots on Target Against', 'Saves', 'Save%', 'Wins',\n",
       "       'Draws', 'Losts', 'Clean Sheets', 'Clean Sheets%',\n",
       "       'Penalty Kicks Attempted', 'Penalty Kicks Allowed12',\n",
       "       'Penalty Kicks Saved', 'Penalty Kicks Missed', 'Penalty Kicks Save%'],\n",
       "      dtype='object')"
      ]
     },
     "execution_count": 35,
     "metadata": {},
     "output_type": "execute_result"
    }
   ],
   "source": [
    "# cek nama kolom pada dataframe\n",
    "df.columns"
   ]
  },
  {
   "cell_type": "code",
   "execution_count": 36,
   "metadata": {},
   "outputs": [],
   "source": [
    "# Menghilangkan kolom yang tidak diperlukan dalam chart\n",
    "df = df.drop(['Rk', 'Nation', 'Pos', 'Squad', 'Comp', 'Age', 'Born',\n",
    "       'Goals Against', 'Penalty Kicks Allowed', 'Free Kick Goals Against',\n",
    "       'Corner Kick Goals Against', 'Own Goals Scored Against Goalkeeper', \n",
    "       'Expected PSxG/SoT', 'Expected PSxG+/-', 'PSxG-GA/90',\n",
    "       'Pass Completion Percentage (Launched)', 'Passes Attempted',\n",
    "       'Throws Attempted', 'Percentage of Passes that were Launched',\n",
    "       'Average Pass Length', 'Goal Kicks', 'Goal Kicks Launch%',\n",
    "       'Goal Kicks AvgLen', 'Crosses Opp', 'Crosses Stp%',\n",
    "       'Sweeper #OPA/90', 'Sweeper AvgDist',\n",
    "       'Goals Against/90', 'Shots on Target Against', 'Save%', 'Wins',\n",
    "       'Draws', 'Losts', 'Clean Sheets%',\n",
    "       'Penalty Kicks Attempted', 'Penalty Kicks Allowed12',\n",
    "       'Penalty Kicks Missed', 'Penalty Kicks Save%'],axis=1).reset_index()"
   ]
  },
  {
   "cell_type": "code",
   "execution_count": 37,
   "metadata": {},
   "outputs": [
    {
     "data": {
      "text/plain": [
       "Index(['index', 'Player', '90s', 'PSxG ', 'Passes Completed (Launched)',\n",
       "       'Passes Attempted (Launched)', 'Crosses Stp', 'Sweeper #OPA', 'Saves',\n",
       "       'Clean Sheets', 'Penalty Kicks Saved'],\n",
       "      dtype='object')"
      ]
     },
     "execution_count": 37,
     "metadata": {},
     "output_type": "execute_result"
    }
   ],
   "source": [
    "# cek nama kolom pada dataframe\n",
    "df.columns"
   ]
  },
  {
   "cell_type": "code",
   "execution_count": 38,
   "metadata": {},
   "outputs": [
    {
     "data": {
      "text/html": [
       "<div>\n",
       "<style scoped>\n",
       "    .dataframe tbody tr th:only-of-type {\n",
       "        vertical-align: middle;\n",
       "    }\n",
       "\n",
       "    .dataframe tbody tr th {\n",
       "        vertical-align: top;\n",
       "    }\n",
       "\n",
       "    .dataframe thead th {\n",
       "        text-align: right;\n",
       "    }\n",
       "</style>\n",
       "<table border=\"1\" class=\"dataframe\">\n",
       "  <thead>\n",
       "    <tr style=\"text-align: right;\">\n",
       "      <th></th>\n",
       "      <th>index</th>\n",
       "      <th>Player</th>\n",
       "      <th>90s</th>\n",
       "      <th>PSxG</th>\n",
       "      <th>Passes Completed (Launched)</th>\n",
       "      <th>Passes Attempted (Launched)</th>\n",
       "      <th>Crosses Stp</th>\n",
       "      <th>Sweeper #OPA</th>\n",
       "      <th>Saves</th>\n",
       "      <th>Clean Sheets</th>\n",
       "      <th>Penalty Kicks Saved</th>\n",
       "    </tr>\n",
       "  </thead>\n",
       "  <tbody>\n",
       "    <tr>\n",
       "      <th>0</th>\n",
       "      <td>3</td>\n",
       "      <td>Alisson</td>\n",
       "      <td>37.0</td>\n",
       "      <td>51.1</td>\n",
       "      <td>116.0</td>\n",
       "      <td>283.0</td>\n",
       "      <td>23.0</td>\n",
       "      <td>89.0</td>\n",
       "      <td>105.0</td>\n",
       "      <td>14.0</td>\n",
       "      <td>1.0</td>\n",
       "    </tr>\n",
       "    <tr>\n",
       "      <th>1</th>\n",
       "      <td>5</td>\n",
       "      <td>Kepa Arrizabalaga</td>\n",
       "      <td>28.5</td>\n",
       "      <td>35.0</td>\n",
       "      <td>68.0</td>\n",
       "      <td>213.0</td>\n",
       "      <td>15.0</td>\n",
       "      <td>52.0</td>\n",
       "      <td>90.0</td>\n",
       "      <td>9.0</td>\n",
       "      <td>0.0</td>\n",
       "    </tr>\n",
       "    <tr>\n",
       "      <th>2</th>\n",
       "      <td>7</td>\n",
       "      <td>Emil Audero</td>\n",
       "      <td>25.0</td>\n",
       "      <td>32.3</td>\n",
       "      <td>159.0</td>\n",
       "      <td>441.0</td>\n",
       "      <td>24.0</td>\n",
       "      <td>23.0</td>\n",
       "      <td>82.0</td>\n",
       "      <td>4.0</td>\n",
       "      <td>2.0</td>\n",
       "    </tr>\n",
       "    <tr>\n",
       "      <th>3</th>\n",
       "      <td>8</td>\n",
       "      <td>Édgar Badía</td>\n",
       "      <td>36.0</td>\n",
       "      <td>69.5</td>\n",
       "      <td>191.0</td>\n",
       "      <td>422.0</td>\n",
       "      <td>21.0</td>\n",
       "      <td>20.0</td>\n",
       "      <td>136.0</td>\n",
       "      <td>4.0</td>\n",
       "      <td>3.0</td>\n",
       "    </tr>\n",
       "    <tr>\n",
       "      <th>4</th>\n",
       "      <td>10</td>\n",
       "      <td>Oliver Baumann</td>\n",
       "      <td>34.0</td>\n",
       "      <td>50.4</td>\n",
       "      <td>206.0</td>\n",
       "      <td>525.0</td>\n",
       "      <td>43.0</td>\n",
       "      <td>43.0</td>\n",
       "      <td>105.0</td>\n",
       "      <td>5.0</td>\n",
       "      <td>0.0</td>\n",
       "    </tr>\n",
       "  </tbody>\n",
       "</table>\n",
       "</div>"
      ],
      "text/plain": [
       "   index             Player   90s  PSxG   Passes Completed (Launched)  \\\n",
       "0      3            Alisson  37.0   51.1                        116.0   \n",
       "1      5  Kepa Arrizabalaga  28.5   35.0                         68.0   \n",
       "2      7        Emil Audero  25.0   32.3                        159.0   \n",
       "3      8        Édgar Badía  36.0   69.5                        191.0   \n",
       "4     10     Oliver Baumann  34.0   50.4                        206.0   \n",
       "\n",
       "   Passes Attempted (Launched)  Crosses Stp  Sweeper #OPA  Saves  \\\n",
       "0                        283.0         23.0          89.0  105.0   \n",
       "1                        213.0         15.0          52.0   90.0   \n",
       "2                        441.0         24.0          23.0   82.0   \n",
       "3                        422.0         21.0          20.0  136.0   \n",
       "4                        525.0         43.0          43.0  105.0   \n",
       "\n",
       "   Clean Sheets  Penalty Kicks Saved  \n",
       "0          14.0                  1.0  \n",
       "1           9.0                  0.0  \n",
       "2           4.0                  2.0  \n",
       "3           4.0                  3.0  \n",
       "4           5.0                  0.0  "
      ]
     },
     "execution_count": 38,
     "metadata": {},
     "output_type": "execute_result"
    }
   ],
   "source": [
    "# cek dataframe\n",
    "df.head()"
   ]
  },
  {
   "cell_type": "code",
   "execution_count": 39,
   "metadata": {},
   "outputs": [
    {
     "data": {
      "text/plain": [
       "['index',\n",
       " 'Player',\n",
       " '90s',\n",
       " 'PSxG ',\n",
       " 'Passes Completed (Launched)',\n",
       " 'Passes Attempted (Launched)',\n",
       " 'Crosses Stp',\n",
       " 'Sweeper #OPA',\n",
       " 'Saves',\n",
       " 'Clean Sheets',\n",
       " 'Penalty Kicks Saved']"
      ]
     },
     "execution_count": 39,
     "metadata": {},
     "output_type": "execute_result"
    }
   ],
   "source": [
    "# Membuat list parameter\n",
    "params = list(df.columns)\n",
    "params"
   ]
  },
  {
   "cell_type": "code",
   "execution_count": 40,
   "metadata": {},
   "outputs": [
    {
     "data": {
      "text/plain": [
       "['PSxG ',\n",
       " 'Passes Completed (Launched)',\n",
       " 'Passes Attempted (Launched)',\n",
       " 'Crosses Stp',\n",
       " 'Sweeper #OPA',\n",
       " 'Saves',\n",
       " 'Clean Sheets',\n",
       " 'Penalty Kicks Saved']"
      ]
     },
     "execution_count": 40,
     "metadata": {},
     "output_type": "execute_result"
    }
   ],
   "source": [
    "# menghilangkan beberapa kolom yang tidak digunakan sebagai parameter dalam pizza chart\n",
    "params = params[3:]\n",
    "params\n"
   ]
  },
  {
   "cell_type": "code",
   "execution_count": 41,
   "metadata": {},
   "outputs": [
    {
     "data": {
      "text/plain": [
       "array(['Alisson', 'Kepa Arrizabalaga', 'Emil Audero', 'Édgar Badía',\n",
       "       'Oliver Baumann', 'Gavin Bazunu', 'Paul Bernardoni', 'Marco Bizot',\n",
       "       'Janis Blaswich', 'Yassine Bounou', 'Claudio Bravo',\n",
       "       'Fabian Bredlow', 'Marco Carnesecchi', 'Koen Casteels',\n",
       "       'Lucas Chevalier', 'Oliver Christensen', 'Andrea Consigli',\n",
       "       'Benoît Costil', 'Thibaut Courtois', 'Michele Di Gregorio',\n",
       "       'Mory Diaw', 'Stole Dimitrievski', 'Yehvann Diouf',\n",
       "       'Marko Dmitrović', 'Gianluigi Donnarumma', 'Bartłomiej Drągowski',\n",
       "       'Maxime Dupé', 'Ederson', 'Łukasz Fabiański', 'Ralf Fährmann',\n",
       "       'Wladimiro Falcone', 'Aitor Fernández', 'Álvaro Fernández',\n",
       "       'Fernando', 'Mark Flekken', 'Yahia Fofana', 'Fraser Forster',\n",
       "       'Gauthier Gallon', 'Paulo Gazzaniga', 'David de Gea',\n",
       "       'Rafał Gikiewicz', 'Ivo Grbić', 'Vicente Guaita',\n",
       "       'Samir Handanović', 'Dean Henderson', 'Sergio Herrera',\n",
       "       'Lukáš Hrádecký', 'Daniel Iversen', 'Gregor Kobel', 'Tomáš Koubek',\n",
       "       'Alban Lafont', 'Benjamin Lecomte', 'Jeremías Ledesma',\n",
       "       'Bernd Leno', 'Benjamin Leroy', 'Hugo Lloris', 'Anthony Lopes',\n",
       "       'Pau López', 'Mike Maignan', 'Giorgi Mamardashvili',\n",
       "       'Steve Mandanda', 'Vito Mannone', 'Agustín Marchesín',\n",
       "       'Emiliano Martínez', 'Jordi Masip', 'Alex Meret', 'Illan Meslier',\n",
       "       'Vanja Milinković-Savić', 'Lorenzo Montipò', 'Florian Müller',\n",
       "       'Juan Musso', 'Yvon Mvogo', 'Keylor Navas', 'Neto', 'Manuel Neuer',\n",
       "       'Alexander Nübel', 'Jan Oblak', 'Guillermo Ochoa', 'Jonas Omlin',\n",
       "       'Jonas Omlin', 'André Onana', 'Fernando Pacheco', 'Rui Patrício',\n",
       "       'Jiří Pavlenka', 'Mattia Perin', 'Jordan Pickford', 'Nick Pope',\n",
       "       'Ivan Provedel', 'Ionuț Radu', 'Predrag Rajković',\n",
       "       'Aaron Ramsdale', 'David Raya', 'Pepe Reina', 'Álex Remiro',\n",
       "       'Manuel Riemann', 'Gerónimo Rulli', 'Frederik Rønnow', 'José Sá',\n",
       "       'Brice Samba', 'Robert Sanchez', 'Kasper Schmeichel',\n",
       "       'Marvin Schwäbe', 'Alexander Schwolow', 'Matz Sels', 'Luigi Sepe',\n",
       "       'Rui Silva', 'Marco Silvestri', 'Unai Simón', 'Łukasz Skorupski',\n",
       "       'Yann Sommer', 'David Soria', 'Marco Sportiello', 'Jason Steele',\n",
       "       'Wojciech Szczęsny', 'Ciprian Tătărușanu', 'Marc-André ter Stegen',\n",
       "       'Pietro Terracciano', 'Kevin Trapp', 'Mark Travers',\n",
       "       'Guglielmo Vicario', 'Iván Villar', 'Danny Ward', 'Robin Zentner'],\n",
       "      dtype=object)"
      ]
     },
     "execution_count": 41,
     "metadata": {},
     "output_type": "execute_result"
    }
   ],
   "source": [
    "# cek nama pemain\n",
    "df.Player.values"
   ]
  },
  {
   "cell_type": "code",
   "execution_count": 42,
   "metadata": {},
   "outputs": [
    {
     "name": "stdout",
     "output_type": "stream",
     "text": [
      "[39, 63, 'David de Gea', 38.0, 41.3, 141.0, 449.0, 15.0, 32.0, 99.0, 17.0, 1.0]\n"
     ]
    }
   ],
   "source": [
    "# menentukan pemain\n",
    "player = df.loc[df['Player']=='David de Gea'].reset_index()\n",
    "player = list(player.loc[0])\n",
    "print(player)"
   ]
  },
  {
   "cell_type": "code",
   "execution_count": 43,
   "metadata": {},
   "outputs": [
    {
     "name": "stdout",
     "output_type": "stream",
     "text": [
      "8\n",
      "12 None\n",
      "8\n",
      "8 None\n"
     ]
    }
   ],
   "source": [
    "# panjang array player harus sama dengan banyaknya parameter\n",
    "print(len(player),print(len(params)))\n",
    "player = player[4:]\n",
    "print(len(player),print(len(params)))"
   ]
  },
  {
   "cell_type": "code",
   "execution_count": 44,
   "metadata": {},
   "outputs": [],
   "source": [
    "# menghitung nilai persentil dengan scipy stats.\n",
    "values = []\n",
    "for x in range(len(params)):\n",
    "    values.append(math.floor(stats.percentileofscore(df[params[x]],player[x])))"
   ]
  },
  {
   "cell_type": "code",
   "execution_count": 45,
   "metadata": {},
   "outputs": [
    {
     "data": {
      "text/plain": [
       "64"
      ]
     },
     "execution_count": 45,
     "metadata": {},
     "output_type": "execute_result"
    }
   ],
   "source": [
    "round(stats.percentileofscore(df[params[0]],player[0]))"
   ]
  },
  {
   "cell_type": "code",
   "execution_count": 46,
   "metadata": {},
   "outputs": [],
   "source": [
    "for n,i in enumerate(values):\n",
    "    if i == 100:\n",
    "        values[n] = 99"
   ]
  },
  {
   "cell_type": "code",
   "execution_count": 47,
   "metadata": {},
   "outputs": [
    {
     "data": {
      "text/plain": [
       "[64, 57, 71, 30, 60, 71, 98, 69]"
      ]
     },
     "execution_count": 47,
     "metadata": {},
     "output_type": "execute_result"
    }
   ],
   "source": [
    "values"
   ]
  },
  {
   "cell_type": "code",
   "execution_count": 55,
   "metadata": {},
   "outputs": [],
   "source": [
    "# menyesuaikan nama parameter agar tidak overlaping\n",
    "params[0] = 'Post-Shot\\nExpected Goals'\n",
    "params[1] = 'Passes Completed'\n",
    "params[2] = 'Passes Attempted'\n",
    "params[3] = 'Crosses Stopped'\n",
    "params[4] = 'Avg. Distance\\nof Def. Actions'\n",
    "params[7] = 'Penalty Kicks\\nSaved'"
   ]
  },
  {
   "cell_type": "code",
   "execution_count": 49,
   "metadata": {},
   "outputs": [],
   "source": [
    "baker = PyPizza(\n",
    "    params=params,                  # list parameter\n",
    "    straight_line_color=\"#000000\",  # warna untuk garis lurus\n",
    "    straight_line_lw=1,             # lebar garis untuk garis lurus\n",
    "    last_circle_lw=1,               # lebar garis pada lingkaran terluar\n",
    "    other_circle_lw=1,              # lebar garis untuk lingkaran lainnya\n",
    "    other_circle_ls=\"-.\"            # tipe garis untuk lingkaran lainnya\n",
    ")"
   ]
  },
  {
   "cell_type": "code",
   "execution_count": 78,
   "metadata": {},
   "outputs": [
    {
     "data": {
      "text/plain": [
       "Text(0.51, 0.048, 'by: Randy Ansari Nur Hidayat | data: statsbomb viz fbref')"
      ]
     },
     "execution_count": 78,
     "metadata": {},
     "output_type": "execute_result"
    },
    {
     "data": {
      "image/png": "[encoded data removed]",
      "text/plain": [
       "<Figure size 576x615.6 with 1 Axes>"
      ]
     },
     "metadata": {},
     "output_type": "display_data"
    }
   ],
   "source": [
    "# plot pizza\n",
    "fig, ax = baker.make_pizza(\n",
    "    values,              # list nilai setiap parameter\n",
    "    figsize=(8, 8.55),   # menyesuaikan ukuran gambar\n",
    "    param_location=110,  # lokasi parameter\n",
    "    kwargs_slices=dict(\n",
    "        facecolor=\"#DA291C\", edgecolor=\"#000000\",\n",
    "        zorder=2, linewidth=1\n",
    "    ),                   # nilai plotting slices\n",
    "    kwargs_params=dict(\n",
    "        color=\"#000000\", fontsize=11,\n",
    "        fontproperties=font_normal.prop,\n",
    "        va=\"center\", alpha=.4\n",
    "    ),                   # menampilkan parameter pada gambar\n",
    "    kwargs_values=dict(\n",
    "        color=\"#000000\", fontsize=11,\n",
    "        fontproperties=font_normal.prop, zorder=3,\n",
    "        bbox=dict(\n",
    "            edgecolor=\"#000000\", facecolor=\"#FBE122\",\n",
    "            boxstyle=\"round,pad=0.2\", lw=1\n",
    "        )\n",
    "    )                    # menampilkan nilai parameter pada gambar\n",
    ")\n",
    "\n",
    "# title\n",
    "fig.text(\n",
    "    0.515, 0.975, \"David de Gea - Manchester United\", size=18,\n",
    "    ha=\"center\", fontproperties=font_bold.prop, color=\"#000000\"\n",
    ")\n",
    "\n",
    "# subtitle\n",
    "fig.text(\n",
    "    0.515, 0.940,\n",
    "    \"Per 90 Percentile Rank vs Top 5 League Goalkeepers | 2022-23\",\n",
    "    size=13,\n",
    "    ha=\"center\", fontproperties=font_bold.prop, color=\"#000000\"\n",
    ")\n",
    "\n",
    "# credit\n",
    "CREDIT = \"by: Randy Ansari Nur Hidayat | data: statsbomb viz fbref\"\n",
    "fig.text(\n",
    "    0.51, 0.048, f\"{CREDIT}\", size=9,\n",
    "    fontproperties=font_italic.prop, color=\"#000000\",\n",
    "    ha=\"center\"\n",
    ")"
   ]
  },
  {
   "cell_type": "code",
   "execution_count": null,
   "metadata": {},
   "outputs": [],
   "source": [
    "# menyimpan gambar dalam format png\n",
    "plt.savefig('pizza.png',dpi=500,bbox_inches = 'tight')"
   ]
  }
 ],
 "metadata": {
  "kernelspec": {
   "display_name": "base",
   "language": "python",
   "name": "python3"
  },
  "language_info": {
   "codemirror_mode": {
    "name": "ipython",
    "version": 3
   },
   "file_extension": ".py",
   "mimetype": "text/x-python",
   "name": "python",
   "nbconvert_exporter": "python",
   "pygments_lexer": "ipython3",
   "version": "3.9.7"
  },
  "orig_nbformat": 4
 },
 "nbformat": 4,
 "nbformat_minor": 2
}
